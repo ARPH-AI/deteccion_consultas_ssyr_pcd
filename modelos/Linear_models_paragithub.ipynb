{
 "cells": [
  {
   "cell_type": "markdown",
   "metadata": {},
   "source": [
    "# Modelos de clasificacion lineales\n",
    "\n",
    "\n",
    "En esta notebook veremos como:\n",
    "1. Levantar un conjunto de datos previamene separado en conjunto de entrenamiento y de test\n",
    "2. Preprocesar los datos\n",
    "3. Realizar una seleccion de hiperparametros para cada modelo mediante un Grid Search. En este analisis se consideran los clasificadores: **Regresion Logistica (LogisticRegression), XGBoost, Naive Bayes Multinomial y SVM Lineal**.\n",
    "4. Seleccionar el mejor clasificador y evaluarlo en el conjunto test.\n",
    "\n",
    "\n",
    "## 0. Instalacion e importacion de las librerias necesarias"
   ]
  },
  {
   "cell_type": "code",
   "execution_count": null,
   "metadata": {},
   "outputs": [],
   "source": [
    "# Instalamos la biblioteca xgboost\n",
    "!pip install xgboost"
   ]
  },
  {
   "cell_type": "code",
   "execution_count": null,
   "metadata": {},
   "outputs": [],
   "source": [
    "# Importamos las librerias que necesitamos:\n",
    "import matplotlib.pyplot as plt\n",
    "import os\n",
    "import pandas\n",
    "import seaborn\n",
    "\n",
    "from sklearn.model_selection import GridSearchCV\n",
    "from sklearn.pipeline import Pipeline\n",
    "from sklearn.feature_extraction.text import TfidfVectorizer\n",
    "from sklearn.linear_model import LogisticRegression\n",
    "from sklearn.naive_bayes import MultinomialNB\n",
    "from sklearn.svm import LinearSVC\n",
    "from xgboost import XGBClassifier\n",
    "from sklearn.compose import ColumnTransformer\n",
    "from sklearn.preprocessing import OneHotEncoder, MinMaxScaler\n",
    "from sklearn.model_selection import train_test_split\n",
    "from sklearn.metrics import classification_report\n",
    "from sklearn.metrics import roc_auc_score, average_precision_score, roc_curve, precision_recall_curve\n",
    "import matplotlib.pyplot as plt"
   ]
  },
  {
   "cell_type": "markdown",
   "metadata": {},
   "source": [
    "## 1. Importacion de conjunto de datos etiquetados"
   ]
  },
  {
   "cell_type": "code",
   "execution_count": null,
   "metadata": {},
   "outputs": [],
   "source": [
    "# Creamos variables que indiquen la direccion del conjunto de datos y el nombre de la columna que contiene la etiqueta\n",
    "direccion_datos = '/users/proyecto_pcd_ssyr/data'\n",
    "col_etiqueta = 'is_pcd'"
   ]
  },
  {
   "cell_type": "code",
   "execution_count": null,
   "metadata": {},
   "outputs": [],
   "source": [
    "nombre_archivo = os.path.join(direccion_datos, 'annotations/final_pcd_labels.csv')\n",
    "print('Leyendo datos del archivo', nombre_archivo)\n",
    "datos = pandas.read_csv(nombre_archivo)"
   ]
  },
  {
   "cell_type": "markdown",
   "metadata": {},
   "source": [
    "### 1.1 Creacion de los conjunto de entrenamiento y test"
   ]
  },
  {
   "cell_type": "code",
   "execution_count": null,
   "metadata": {},
   "outputs": [],
   "source": [
    "# Levanto el conjunto test creado en la notebook train_test_split\n",
    "df_test =  pandas.read_csv('test_dataset.csv')[['id_hc', 'edad_consulta', 'sexo', 'especialidad','hccomunidad_original',  'cie10', col_etiqueta]]\n",
    "# Creo el DataFrame utilizado para el entrenamiento\n",
    "df_entrenamiento = datos[~datos.id_hc.isin(df_test.id_hc.values)][['id_hc', 'edad_consulta', 'sexo', 'especialidad','hccomunidad_original',  'cie10', col_etiqueta]\n",
    "]\n",
    "print('El conjunto cuenta con la siguiente cantidad de instancias totales:', df_entrenamiento.shape[0]+df_test.shape[0])\n",
    "# Selecciono las columnas que utilizaremos en los modelos\n",
    "col_atributos = ['id_hc', 'edad_consulta', 'sexo', 'especialidad','hccomunidad_original',  'cie10']\n",
    "# Creamos los conjuntos de entrenamiento y test:\n",
    "X_entrenamiento, y_entrenamiento = df_entrenamiento[col_atributos], df_entrenamiento[col_etiqueta]\n",
    "X_test, y_test = df_test[col_atributos], df_test[col_etiqueta]"
   ]
  },
  {
   "cell_type": "markdown",
   "metadata": {},
   "source": [
    "## 2. Preprocesamiento de los datos\n",
    "\n",
    "1. A la columna que contiene el texto libre de la consulta se le aplica la transformacion a matriz *tfidf*\n",
    "2. La edad de las personas es reescalada entre 0 y 1\n",
    "3. El sexo registrado, la especialidad y los codigos cie-10 son codificados mediante *OneHotEncoding*."
   ]
  },
  {
   "cell_type": "code",
   "execution_count": null,
   "metadata": {},
   "outputs": [],
   "source": [
    "# Definimos los pasos de preprocesamiento\n",
    "preprocessor = ColumnTransformer(\n",
    "    transformers=[\n",
    "        ('tfidf', TfidfVectorizer(), 'hccomunidad_original'), \n",
    "        ('scaler', MinMaxScaler(), ['edad_consulta']),\n",
    "        ('onehot_sex', OneHotEncoder(handle_unknown='infrequent_if_exist'), ['sexo']),\n",
    "        ('onehot_specialty', OneHotEncoder(handle_unknown='infrequent_if_exist'), ['especialidad']),\n",
    "        ('onehot_cie10', OneHotEncoder(handle_unknown='infrequent_if_exist'), ['cie10'])\n",
    "    ],\n",
    "    remainder='drop'\n",
    ")\n",
    "\n",
    "# Definimos el flujo de trabajo\n",
    "pipeline = Pipeline([\n",
    "    ('preprocessor', preprocessor),\n",
    "    ('classifier', LogisticRegression())  # Clasificador de marcador de posición; será reemplazado durante el grid search\n",
    "])\n"
   ]
  },
  {
   "cell_type": "markdown",
   "metadata": {},
   "source": [
    "## 3. Seleccion de hiperparametros y valores de los mismos a testear utilizando *GridSearch* para cada clasificador"
   ]
  },
  {
   "cell_type": "code",
   "execution_count": null,
   "metadata": {},
   "outputs": [],
   "source": [
    "\n",
    "# Preparamos los parametros para el grid search\n",
    "param_grid = [\n",
    "    {\n",
    "        'preprocessor__tfidf__ngram_range': [(1, 1), (1, 2), (1, 3)],  # Unigramas, bigramas, y trigramas\n",
    "        'preprocessor__tfidf__max_features': [30000],  # Limitamos a to 30,000 features\n",
    "        'classifier': [LogisticRegression()],\n",
    "        'classifier__C': [0.01, 0.1, 1, 10],  # Regularization strength\n",
    "        'classifier__max_iter': [100, 200]  # Maximum iterations for convergence\n",
    "    },\n",
    "    {\n",
    "        'preprocessor__tfidf__ngram_range': [(1, 1), (1, 2), (1, 3)],\n",
    "        'preprocessor__tfidf__max_features': [30000],\n",
    "        'classifier': [XGBClassifier(eval_metric='logloss')],\n",
    "        'classifier__n_estimators': [50, 100],  # Number of boosting rounds\n",
    "        'classifier__max_depth': [3, 5],  # Maximum depth of trees\n",
    "        'classifier__learning_rate': [0.01, 0.1]  # Learning rate\n",
    "    },\n",
    "    {\n",
    "        'preprocessor__tfidf__ngram_range': [(1, 1), (1, 2), (1, 3)],\n",
    "        'preprocessor__tfidf__max_features': [30000],\n",
    "        'classifier': [MultinomialNB()],\n",
    "        'classifier__alpha': [0.1, 1.0, 10.0]  # Smoothing parameter\n",
    "    },\n",
    "    {\n",
    "        'preprocessor__tfidf__ngram_range': [(1, 1), (1, 2), (1, 3)],\n",
    "        'preprocessor__tfidf__max_features': [30000],\n",
    "        'classifier': [LinearSVC(dual=True)],\n",
    "        'classifier__C': [0.01, 0.1, 1, 10],  # Regularization parameter\n",
    "        'classifier__max_iter': [1000, 2000]  # Maximum iterations\n",
    "    }\n",
    "]\n",
    "\n",
    "# Inicializamos el GridSearchCV\n",
    "grid_search = GridSearchCV(pipeline, param_grid, cv=5, scoring='accuracy', n_jobs=-1)\n",
    "\n",
    "\n",
    "grid_search.fit(X_entrenamiento, y_entrenamiento)\n",
    "\n",
    "# Obtenemos los mejores parámetros y la mejor puntuación\n",
    "print(f\"Mejores hiperparametros: {grid_search.best_params_}\")\n",
    "print(f\"Mejor performance de validacion cruzada: {grid_search.best_score_}\")"
   ]
  },
  {
   "cell_type": "code",
   "execution_count": null,
   "metadata": {},
   "outputs": [],
   "source": [
    "# Diccionario para almacenar la mejor puntuación para cada clasificador\n",
    "performance_clasificadores = {}\n",
    "\n",
    "# Iteramos sobre los resultados\n",
    "for i in range(len(grid_search.cv_results_['params'])):\n",
    "    nombre_clasificador = type(grid_search.cv_results_['params'][i]['classifier']).__name__\n",
    "    performance_media = grid_search.cv_results_['mean_test_score'][i]\n",
    "    \n",
    "    # Almacenamos la puntuación más alta para cada clasificador.\n",
    "    if nombre_clasificador not in performance_clasificadores or performance_media > performance_clasificadores[nombre_clasificador]:\n",
    "        performance_clasificadores[nombre_clasificador] = performance_media\n",
    "\n",
    "# Imprimimos el informe\n",
    "print(\"Performance máxima alcanzada por cada clasificador:\")\n",
    "for clasificador, performance in performance_clasificadores.items():\n",
    "    print(f\"{clasificador}: {performance:.4f}\")"
   ]
  },
  {
   "cell_type": "markdown",
   "metadata": {},
   "source": [
    "## 4. Seleccion y evaluacion sobre el conjunto test del clasificador que mostro mejor performance en la validacion cruzada"
   ]
  },
  {
   "cell_type": "code",
   "execution_count": null,
   "metadata": {},
   "outputs": [],
   "source": [
    "# Obtenemos el mejor modelo\n",
    "mejor_modelo = grid_search.best_estimator_\n",
    "\n",
    "# Realizamos la prediccion sobre el conjunto test\n",
    "y_pred = mejor_modelo.predict(X_test)\n",
    "\n",
    "# Print the classification report\n",
    "print(\"Reporte de la clasificacion:\")\n",
    "print(classification_report(y_test, y_pred))"
   ]
  },
  {
   "cell_type": "code",
   "execution_count": null,
   "metadata": {},
   "outputs": [],
   "source": [
    "# Ensure that y_test and y_pred are in the appropriate format (binary classification)\n",
    "# If y_test contains class labels, convert y_pred to probabilities if necessary\n",
    "if len(set(y_test)) == 2:  # Check if it's a binary classification\n",
    "    # Get the probability scores for the positive class\n",
    "    y_pred_proba = mejor_modelo.predict_proba(X_test)[:, 1]\n",
    "\n",
    "    # Compute ROC AUC\n",
    "    roc_auc = roc_auc_score(y_test, y_pred_proba)\n",
    "    print(f\"ROC AUC: {roc_auc:.4f}\")\n",
    "\n",
    "    # Compute Precision-Recall AUC\n",
    "    pr_auc = average_precision_score(y_test, y_pred_proba)\n",
    "    print(f\"Precision-Recall AUC: {pr_auc:.4f}\")\n",
    "\n",
    "    # Compute ROC curve\n",
    "    fpr, tpr, _ = roc_curve(y_test, y_pred_proba)\n",
    "    plt.figure()\n",
    "    plt.plot(fpr, tpr, color='blue', label=f'ROC curve (area = {roc_auc:.4f})')\n",
    "    plt.xlabel('False Positive Rate')\n",
    "    plt.ylabel('True Positive Rate')\n",
    "    plt.title('Receiver Operating Characteristic')\n",
    "    plt.legend(loc='lower right')\n",
    "    plt.show()\n",
    "\n",
    "    # Compute Precision-Recall curve\n",
    "    precision, recall, _ = precision_recall_curve(y_test, y_pred_proba)\n",
    "    plt.figure()\n",
    "    plt.plot(recall, precision, color='green', label=f'Precision-Recall curve (area = {pr_auc:.4f})')\n",
    "    plt.xlabel('Recall')\n",
    "    plt.ylabel('Precision')\n",
    "    plt.title('Precision-Recall Curve')\n",
    "    plt.legend(loc='lower left')\n",
    "    plt.show()\n",
    "else:\n",
    "    print(\"Las métricas ROC y Precision-Recall solo se aplican para la clasificación binaria.\")"
   ]
  }
 ],
 "metadata": {
  "kernelspec": {
   "display_name": "Python 3",
   "language": "python",
   "name": "python3"
  },
  "language_info": {
   "codemirror_mode": {
    "name": "ipython",
    "version": 3
   },
   "file_extension": ".py",
   "mimetype": "text/x-python",
   "name": "python",
   "nbconvert_exporter": "python",
   "pygments_lexer": "ipython3",
   "version": "3.8.5"
  }
 },
 "nbformat": 4,
 "nbformat_minor": 5
}
